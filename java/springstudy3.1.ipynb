{
 "cells": [
  {
   "cell_type": "markdown",
   "metadata": {},
   "source": [
    "## 스프링부트 + JPA 활용\n",
    "\n",
    "# 웹 애플리케이션 개발\n",
    "\n",
    "핵심라이브러리: Spring MVC , Spring ORM, JPA, hibernate, Spring data JPA\n",
    "기타 라이브러리: H2, hikariCP, WEB(thymeleaf), 로깅 SLF4J&LogBack, 테스트\n",
    "\n",
    "#쿼리 파라미터 로그남기기\n",
    "라이브러리 활용 py6spy\n",
    "\n",
    "## 도메인 분석 설계\n",
    "#요구사항 분석\n",
    "\n",
    "회원기능 : 회원등록 회원조회\n",
    "\n",
    "상품기능: 상품등록 , 상품수정, 상품 조회\n",
    "\n",
    "주문기능: 상품 주문, 주문내역조회, 주문취소\n",
    "\n",
    "기타 요구사항\n",
    "상품은 재고관리가필요함, 상품의 종류는 도서 음반 영화가있다 상품을 카테고리로 구분할수있다 상품주문시 배송정보를 입력할수있다.\n",
    "\n",
    "** 일대다 다대일 양방향 단방향 연관관계매핑에대한 개념  다시 숙지\n",
    "(외래키가있는곳이 연관관계주인(외래키가 가까운곳에있는곳을 연관관계 주인으로 정한다 그게편함))--비즈니스상 주인이 연관관계 주인이아니다 자동차 바퀴의경우 일대다관계니까 바퀴가 연관관계주인으로 해야 유지보수가 편하고 좋다\n",
    "다대다는 쓰면안댐(꼬인다)"
   ]
  },
  {
   "cell_type": "markdown",
   "metadata": {},
   "source": [
    "#엔티티 클래스 개발\n",
    "회원 엔티티 개발 실무에서는 getter는 열고 setter는 필요한곳만 여는게좋다\n",
    "\n",
    "#엔티티에는 가급적 Setter 사용 X (변경포인트가 너무많음)\n",
    "\n",
    "# *모든 연관관계는 지연로딩으로 설정 #\n",
    "즉시로딩(EAGER)은 예측이 어렵고 어떤 sql이 사용될때 추적하기어려움\n",
    "실무에서 모든 연관관계는 지연로딩(LAZY)로 설정\n",
    "연관된 Entity와 함께 DB와 검색해야할때 fetch join 또는 엔티티 그래프 기능을 사용\n",
    "@XToOne 관계는 기본이 EAGER이므로 직접 LAZY설정을 해야함\n",
    "\n",
    "@CascadeType.All => 원래 모든 entity는 persist를 각각 해줘야하는데 CascadeType.All 하면 안에 속해있는게 같이 persist됨\n",
    "\n",
    "# 연관관계메서드\n",
    "양방향일때 있으면 좋다\n",
    " public void setMember(Member member) {\n",
    "        this.member = member;\n",
    "        member.getOrders().add(this);\n",
    "    }\n",
    "    public void addOrderItem(OrderItem orderItem) {\n",
    "        orderItems.add(orderItem);\n",
    "        orderItem.setOrder(this);\n",
    "    }\n",
    "    public void setDelivery(Delivery delivery) {\n",
    "        this.delivery = delivery;\n",
    "        delivery.setOrder(this);\n",
    "    }"
   ]
  }
 ],
 "metadata": {
  "interpreter": {
   "hash": "b2cab5ce00a031300e758445019bb9a39de9bffa177d0425030cef596771b593"
  },
  "kernelspec": {
   "display_name": "Python 3.7.0 ('project')",
   "language": "python",
   "name": "python3"
  },
  "language_info": {
   "name": "python",
   "version": "3.7.0"
  },
  "orig_nbformat": 4
 },
 "nbformat": 4,
 "nbformat_minor": 2
}

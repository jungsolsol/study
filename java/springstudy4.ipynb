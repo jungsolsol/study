{
 "cells": [
  {
   "cell_type": "markdown",
   "metadata": {},
   "source": [
    "예제 단순화하기위해 다음기능은 구현X\n",
    "로그인과 권한관리X\n",
    "파라미터 검증과 예외처리 단순화\n",
    "상품은 도서만 \n",
    "카테고리 배송정보 사용 X"
   ]
  },
  {
   "cell_type": "markdown",
   "metadata": {},
   "source": [
    "#애플리케이션 아키팩쳐\n",
    "계층형 구조 사용\n",
    "controller web : 웹계층\n",
    "service : 비즈니스로직, 트랜잭션 처리\n",
    "repository jpa를 직접 사용, 엔티티 매니저 사용\n",
    "domain 엔티티가 모여있는 계층\n",
    "\n",
    "#패키지 구조\n",
    "jpabook.jpashop\n",
    "-domain\n",
    "-exception\n",
    "-repository\n",
    "-service\n",
    "-web\n",
    "\n",
    "비즈니스 로직을 전부다 엔티티에 몰아넣고 서비스 계층은 엔티티 요청들을 위임하는 역할을 하게 설계했음 (createOrder, cancel등 비즈니스로직을 엔티티안에서 설계해서 service에서는 요청들 수행정도했음)\n",
    "이처럼 엔티티가 비즈니스 로직을 가지고 객체지향 특성을 적극활용하는것을 *도메인 모델 패턴* 이라고 한다.\n",
    "반대로 엔티티에는 비즈니스로직이 거의없고 서비스 계층에서 대부분의 비즈니스로직을 처리하는것을 *트랜잭션 스크립트 패턴* 이라고 한다.(SQL 사용할때 사용하는 패턴)\n",
    "\n",
    "#주문 검색 기능(동적 쿼리)\n",
    "JPA에서 동적 쿼리를 어떻게 해결해야하나 ?\n"
   ]
  },
  {
   "cell_type": "markdown",
   "metadata": {},
   "source": [
    "\n",
    "domain\n",
    "=> item (Address Delivery DeliveryStatus Member Order OrderItem OrderStatus)\n",
    "=> exception (NotEnoughStockException)\n",
    "=> repository (ItemRepository MemberRepository OrderRepository OrderSearch)\n",
    "=>service (ItemService MemberService OrderService)\n",
    "Hello\n",
    "HelloController\n",
    "JpashopApplication"
   ]
  }
 ],
 "metadata": {
  "interpreter": {
   "hash": "b2cab5ce00a031300e758445019bb9a39de9bffa177d0425030cef596771b593"
  },
  "kernelspec": {
   "display_name": "Python 3.7.0 ('project')",
   "language": "python",
   "name": "python3"
  },
  "language_info": {
   "name": "python",
   "version": "3.7.0"
  },
  "orig_nbformat": 4
 },
 "nbformat": 4,
 "nbformat_minor": 2
}

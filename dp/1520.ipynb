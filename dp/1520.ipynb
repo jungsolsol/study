{
 "cells": [
  {
   "cell_type": "code",
   "execution_count": 1,
   "metadata": {},
   "outputs": [
    {
     "name": "stdout",
     "output_type": "stream",
     "text": [
      "3\n"
     ]
    }
   ],
   "source": [
    "'''여행을 떠난 세준이는 지도를 하나 구하였다. 이 지도는 아래 그림과 같이 직사각형 모양이며 \n",
    "여러 칸으로 나뉘어져 있다. 한 칸은 한 지점을 나타내는데 각 칸에는 그 지점의 높이가 쓰여 있으며, \n",
    "각 지점 사이의 이동은 지도에서 상하좌우 이웃한 곳끼리만 가능하다.\n",
    "현재 제일 왼쪽 위 칸이 나타내는 지점에 있는 세준이는 제일 오른쪽 아래 칸이 나타내는 지점으로 가려고 한다. \n",
    "그런데 가능한 힘을 적게 들이고 싶어 항상 높이가 더 낮은 지점으로만 이동하여 목표 지점까지 가고자 한다. \n",
    "위와 같은 지도에서는 다음과 같은 세 가지 경로가 가능하다.\n",
    "\n",
    "지도가 주어질 때 이와 같이 제일 왼쪽 위 지점에서 출발하여 제일 오른쪽 아래 지점까지 \n",
    "항상 내리막길로만 이동하는 경로의 개수를 구하는 프로그램을 작성하시오.\n",
    "'''\n",
    "import sys\n",
    "sys.setrecursionlimit(10 ** 8)\n",
    "input = sys.stdin.readline\n",
    " \n",
    "def dfs(sx, sy):\n",
    "    # 도착 지점에 도달하면 1(한 가지 경우의 수)를 리턴\n",
    "    if sx == m-1 and sy == n-1:\n",
    "        return 1\n",
    " \n",
    "    # 이미 방문한 적이 있다면 그 위치에서 출발하는 경우의 수를 리턴\n",
    "    if dp[sx][sy] != -1:\n",
    "        return dp[sx][sy]\n",
    "    \n",
    "    ways = 0\n",
    "    for i in range(4):\n",
    "        nx, ny = sx + dx[i], sy + dy[i]\n",
    "        if 0 <= nx < m and 0 <= ny < n and graph[sx][sy] > graph[nx][ny]:\n",
    "            ways += dfs(nx, ny)\n",
    "    \n",
    "    dp[sx][sy] = ways\n",
    "    return dp[sx][sy]\n",
    " \n",
    " \n",
    "m, n = map(int, input().split())\n",
    "graph = [list(map(int, input().split())) for _ in range(m)]\n",
    "dp = [[-1] * n for _ in range(m)]\n",
    "dx, dy = [1,-1,0,0], [0,0,1,-1]\n",
    " \n",
    "print(dfs(0,0))"
   ]
  }
 ],
 "metadata": {
  "interpreter": {
   "hash": "b2cab5ce00a031300e758445019bb9a39de9bffa177d0425030cef596771b593"
  },
  "kernelspec": {
   "display_name": "Python 3.7.0 ('project')",
   "language": "python",
   "name": "python3"
  },
  "language_info": {
   "codemirror_mode": {
    "name": "ipython",
    "version": 3
   },
   "file_extension": ".py",
   "mimetype": "text/x-python",
   "name": "python",
   "nbconvert_exporter": "python",
   "pygments_lexer": "ipython3",
   "version": "3.7.0"
  },
  "orig_nbformat": 4
 },
 "nbformat": 4,
 "nbformat_minor": 2
}

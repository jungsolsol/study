{
 "cells": [
  {
   "cell_type": "code",
   "execution_count": null,
   "metadata": {},
   "outputs": [],
   "source": [
    "'''어느 날, 미르코는 우연히 길거리에서 양수 N을 보았다. 미르코는 30이란 수를 존경하기 때문에, 그는 길거리에서 찾은 수에 포함된 숫자들을 섞어 30의 배수가 되는 가장 큰 수를 만들고 싶어한다.\n",
    "\n",
    "미르코를 도와 그가 만들고 싶어하는 수를 계산하는 프로그램을 작성하라.'''\n",
    "\n",
    "'''입력 : N을 입력받는다. N는 최대 105개의 숫자로 구성되어 있으며, 0으로 시작하지 않는다.\n",
    "\n",
    "'''\n",
    "\n",
    "'''출력 :미르코가 만들고 싶어하는 수가 존재한다면 그 수를 출력하라. 그 수가 존재하지 않는다면, -1을 출력하라.\n",
    "\n",
    " '''"
   ]
  },
  {
   "cell_type": "code",
   "execution_count": 54,
   "metadata": {},
   "outputs": [
    {
     "name": "stdout",
     "output_type": "stream",
     "text": [
      "-1\n"
     ]
    }
   ],
   "source": [
    "n = (input())\n",
    "n = list(n)\n",
    "\n",
    "answer = -1\n",
    "if min(n) =='0':\n",
    "    max_num = sorted(n, reverse=True)\n",
    "    max_num = int(''.join(max_num))\n",
    "    \n",
    "    if max_num % 3 == 0:\n",
    "        answer = max_num\n",
    "print(answer)"
   ]
  },
  {
   "cell_type": "code",
   "execution_count": null,
   "metadata": {},
   "outputs": [],
   "source": [
    "def solution(n):\n",
    "    n = list(n)\n",
    "    answer = -1\n",
    "    if min(n) =='0':\n",
    "        max_num = sorted(n, reverse=True)\n",
    "        max_num = int(''.join(max_num))\n",
    "        \n",
    "        if max_num % 3 == 0:\n",
    "            answer = max_num\n",
    "    print(answer)"
   ]
  },
  {
   "cell_type": "code",
   "execution_count": null,
   "metadata": {},
   "outputs": [],
   "source": [
    "'''문제\n",
    "Day Of Mourning의 기타리스트 강토가 사용하는 기타에서 N개의 줄이 끊어졌다.\n",
    "따라서 새로운 줄을 사거나 교체해야 한다. 강토는 되도록이면 돈을 적게 쓰려고 한다. \n",
    "6줄 패키지를 살 수도 있고, 1개 또는 그 이상의 줄을 낱개로 살 수도 있다.\n",
    "\n",
    "끊어진 기타줄의 개수 N과 기타줄 브랜드 M개가 주어지고, \n",
    "각각의 브랜드에서 파는 기타줄 6개가 들어있는 패키지의 가격, \n",
    "낱개로 살 때의 가격이 주어질 때, \n",
    "적어도 N개를 사기 위해 필요한 돈의 수를 최소로 하는 프로그램을 작성하시오.\n",
    "\n",
    "입력\n",
    "첫째 줄에 N과 M이 주어진다. N은 100보다 작거나 같은 자연수이고, \n",
    "M은 50보다 작거나 같은 자연수이다. \n",
    "둘째 줄부터 M개의 줄에는 각 브랜드의 패키지 가격과 낱개의 가격이 공백으로 구분하여 주어진다. \n",
    "가격은 0보다 크거나 같고, 1,000보다 작거나 같은 정수이다.\n",
    "input\n",
    "4 2\n",
    "12 3\n",
    "15 4\n",
    "output\n",
    "12'''"
   ]
  },
  {
   "cell_type": "code",
   "execution_count": 78,
   "metadata": {},
   "outputs": [
    {
     "name": "stdout",
     "output_type": "stream",
     "text": [
      "12\n"
     ]
    }
   ],
   "source": [
    "n, m = map(int, input().split())\n",
    "string = []\n",
    "pack =[]\n",
    "expense =[]\n",
    "for i in range(m):\n",
    "    string = list(map(int, input().split()))\n",
    "    pack.append(string[0])\n",
    "    expense.append(string[1])\n",
    "minex = min(expense)\n",
    "minpa = min(pack)\n",
    "if n > 6:\n",
    "    r = n % 6\n",
    "    q = n // 6\n",
    "    string = [minpa*(q+1), (minpa*q + minex*r),minex*n]\n",
    "    string = min(string)\n",
    "else:\n",
    "    string = min(minpa, minex*n)\n",
    "print(string)"
   ]
  },
  {
   "cell_type": "markdown",
   "metadata": {},
   "source": [
    "문제\n",
    "항승이는 품질이 심각하게 나쁜 수도 파이프 회사의 수리공이다. 항승이는 세준 지하철 공사에서 물이 샌다는 소식을 듣고 수리를 하러 갔다.\n",
    "\n",
    "파이프에서 물이 새는 곳은 신기하게도 가장 왼쪽에서 정수만큼 떨어진 거리만 물이 샌다.\n",
    "\n",
    "항승이는 길이가 L인 테이프를 무한개 가지고 있다.\n",
    "\n",
    "항승이는 테이프를 이용해서 물을 막으려고 한다. 항승이는 항상 물을 막을 때, 적어도 그 위치의 좌우 0.5만큼 간격을 줘야 물이 다시는 안 샌다고 생각한다.\n",
    "\n",
    "물이 새는 곳의 위치와, 항승이가 가지고 있는 테이프의 길이 L이 주어졌을 때, 항승이가 필요한 테이프의 최소 개수를 구하는 프로그램을 작성하시오. 테이프를 자를 수 없고, 테이프를 겹쳐서 붙이는 것도 가능하다.\n",
    "\n",
    "입력\n",
    "첫째 줄에 물이 새는 곳의 개수 N과 테이프의 길이 L이 주어진다. 둘째 줄에는 물이 새는 곳의 위치가 주어진다. N과 L은 1,000보다 작거나 같은 자연수이고, 물이 새는 곳의 위치는 1,000보다 작거나 같은 자연수이다.\n",
    "\n",
    "출력\n",
    "첫째 줄에 항승이가 필요한 테이프의 개수를 출력한다.\n",
    "\n",
    "예제 입력 1 \n",
    "4 2\n",
    "1 2 100 101\n",
    "예제 출력 1 \n",
    "2\n",
    "예제 입력 2 \n",
    "4 3\n",
    "1 2 3 4\n",
    "예제 출력 2 \n",
    "2"
   ]
  },
  {
   "cell_type": "code",
   "execution_count": 86,
   "metadata": {},
   "outputs": [
    {
     "name": "stdout",
     "output_type": "stream",
     "text": [
      "1\n"
     ]
    }
   ],
   "source": [
    "n, m = map(int, input().split())\n",
    "l = list(map(int,input().split()))\n",
    "l.sort()\n",
    "tape = 1\n",
    "end = l[0] + m - 0.5\n",
    "for i in l:\n",
    "    if end >= i:\n",
    "        continue\n",
    "    else:\n",
    "        tape +=1\n",
    "        end = i + m - 0.5\n",
    "        \n",
    "print(tape)        "
   ]
  },
  {
   "cell_type": "markdown",
   "metadata": {},
   "source": [
    "문제\n",
    "알파벳 대소문자로 된 단어가 주어지면, 이 단어에서 가장 많이 사용된 알파벳이 무엇인지 알아내는 프로그램을 작성하시오. 단, 대문자와 소문자를 구분하지 않는다.\n",
    "\n",
    "입력\n",
    "첫째 줄에 알파벳 대소문자로 이루어진 단어가 주어진다. 주어지는 단어의 길이는 1,000,000을 넘지 않는다.\n",
    "\n",
    "출력\n",
    "첫째 줄에 이 단어에서 가장 많이 사용된 알파벳을 대문자로 출력한다. 단, 가장 많이 사용된 알파벳이 여러 개 존재하는 경우에는 ?를 출력한다.\n",
    "\n",
    "예제 입력 1 \n",
    "Mississipi\n",
    "예제 출력 1 \n",
    "?\n",
    "예제 입력 2 \n",
    "zZa\n",
    "예제 출력 2 \n",
    "Z"
   ]
  },
  {
   "cell_type": "code",
   "execution_count": 93,
   "metadata": {},
   "outputs": [
    {
     "name": "stdout",
     "output_type": "stream",
     "text": [
      "?\n"
     ]
    }
   ],
   "source": [
    "alpha = input()\n",
    "alpha = alpha.upper()\n",
    "unique = list(set(alpha))\n",
    "cnt = []\n",
    "for i in unique:\n",
    "    cnt.append(alpha.count(i))\n",
    "\n",
    "if cnt.count(max(cnt)) > 1:\n",
    "    print(\"?\")\n",
    "else:\n",
    "    print(unique[cnt.index(max(cnt))])\n",
    "# while True://"
   ]
  }
 ],
 "metadata": {
  "interpreter": {
   "hash": "b2cab5ce00a031300e758445019bb9a39de9bffa177d0425030cef596771b593"
  },
  "kernelspec": {
   "display_name": "Python 3.7.0 ('project')",
   "language": "python",
   "name": "python3"
  },
  "language_info": {
   "codemirror_mode": {
    "name": "ipython",
    "version": 3
   },
   "file_extension": ".py",
   "mimetype": "text/x-python",
   "name": "python",
   "nbconvert_exporter": "python",
   "pygments_lexer": "ipython3",
   "version": "3.7.0"
  },
  "orig_nbformat": 4
 },
 "nbformat": 4,
 "nbformat_minor": 2
}
